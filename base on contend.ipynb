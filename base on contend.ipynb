{
 "cells": [
  {
   "cell_type": "markdown",
   "id": "c4906d13-c9f0-47b6-bde2-25c85b12477e",
   "metadata": {},
   "source": [
    "# Recomendation system base of contend"
   ]
  },
  {
   "cell_type": "code",
   "execution_count": 1,
   "id": "ceaa799d-5c0d-4677-ab6d-352709ad8497",
   "metadata": {},
   "outputs": [],
   "source": [
    "#libraries\n",
    "import pandas as pd\n",
    "import numpy as np\n",
    "import neattext.functions  as nfx\n",
    "from sklearn.feature_extraction.text import TfidfVectorizer, CountVectorizer\n",
    "from sklearn.metrics.pairwise import cosine_similarity"
   ]
  },
  {
   "cell_type": "code",
   "execution_count": 2,
   "id": "2bb263b9-d8ed-4c2a-ad96-1495729363ce",
   "metadata": {},
   "outputs": [],
   "source": [
    "#avoid Warnings\n",
    "import warnings\n",
    "warnings.filterwarnings('ignore')"
   ]
  },
  {
   "cell_type": "markdown",
   "id": "65a7683e-9a25-4bb1-b8bb-0bc050a2fce9",
   "metadata": {},
   "source": [
    "### Load data"
   ]
  },
  {
   "cell_type": "code",
   "execution_count": 3,
   "id": "4ca0395a-4991-4a40-912c-27bd61cfdf63",
   "metadata": {},
   "outputs": [
    {
     "data": {
      "text/html": [
       "<div>\n",
       "<style scoped>\n",
       "    .dataframe tbody tr th:only-of-type {\n",
       "        vertical-align: middle;\n",
       "    }\n",
       "\n",
       "    .dataframe tbody tr th {\n",
       "        vertical-align: top;\n",
       "    }\n",
       "\n",
       "    .dataframe thead th {\n",
       "        text-align: right;\n",
       "    }\n",
       "</style>\n",
       "<table border=\"1\" class=\"dataframe\">\n",
       "  <thead>\n",
       "    <tr style=\"text-align: right;\">\n",
       "      <th></th>\n",
       "      <th>course_id</th>\n",
       "      <th>course_title</th>\n",
       "      <th>url</th>\n",
       "      <th>is_paid</th>\n",
       "      <th>price</th>\n",
       "      <th>num_subscribers</th>\n",
       "      <th>num_reviews</th>\n",
       "      <th>num_lectures</th>\n",
       "      <th>level</th>\n",
       "      <th>content_duration</th>\n",
       "      <th>published_timestamp</th>\n",
       "      <th>subject</th>\n",
       "    </tr>\n",
       "  </thead>\n",
       "  <tbody>\n",
       "    <tr>\n",
       "      <th>0</th>\n",
       "      <td>1070968</td>\n",
       "      <td>Ultimate Investment Banking Course</td>\n",
       "      <td>https://www.udemy.com/ultimate-investment-bank...</td>\n",
       "      <td>True</td>\n",
       "      <td>200</td>\n",
       "      <td>2147</td>\n",
       "      <td>23</td>\n",
       "      <td>51</td>\n",
       "      <td>All Levels</td>\n",
       "      <td>1.5</td>\n",
       "      <td>2017-01-18T20:58:58Z</td>\n",
       "      <td>Business Finance</td>\n",
       "    </tr>\n",
       "    <tr>\n",
       "      <th>1</th>\n",
       "      <td>1113822</td>\n",
       "      <td>Complete GST Course &amp; Certification - Grow You...</td>\n",
       "      <td>https://www.udemy.com/goods-and-services-tax/</td>\n",
       "      <td>True</td>\n",
       "      <td>75</td>\n",
       "      <td>2792</td>\n",
       "      <td>923</td>\n",
       "      <td>274</td>\n",
       "      <td>All Levels</td>\n",
       "      <td>39.0</td>\n",
       "      <td>2017-03-09T16:34:20Z</td>\n",
       "      <td>Business Finance</td>\n",
       "    </tr>\n",
       "  </tbody>\n",
       "</table>\n",
       "</div>"
      ],
      "text/plain": [
       "   course_id                                       course_title  \\\n",
       "0    1070968                 Ultimate Investment Banking Course   \n",
       "1    1113822  Complete GST Course & Certification - Grow You...   \n",
       "\n",
       "                                                 url  is_paid  price  \\\n",
       "0  https://www.udemy.com/ultimate-investment-bank...     True    200   \n",
       "1      https://www.udemy.com/goods-and-services-tax/     True     75   \n",
       "\n",
       "   num_subscribers  num_reviews  num_lectures       level  content_duration  \\\n",
       "0             2147           23            51  All Levels               1.5   \n",
       "1             2792          923           274  All Levels              39.0   \n",
       "\n",
       "    published_timestamp           subject  \n",
       "0  2017-01-18T20:58:58Z  Business Finance  \n",
       "1  2017-03-09T16:34:20Z  Business Finance  "
      ]
     },
     "execution_count": 3,
     "metadata": {},
     "output_type": "execute_result"
    }
   ],
   "source": [
    "df = pd.read_csv('data.csv')\n",
    "df.head(2) #show first 2 rows"
   ]
  },
  {
   "cell_type": "code",
   "execution_count": 4,
   "id": "636da412-24fa-4c3e-b69f-61921572dc8e",
   "metadata": {},
   "outputs": [
    {
     "data": {
      "text/plain": [
       "(3678, 12)"
      ]
     },
     "execution_count": 4,
     "metadata": {},
     "output_type": "execute_result"
    }
   ],
   "source": [
    "#rows and columns\n",
    "df.shape"
   ]
  },
  {
   "cell_type": "markdown",
   "id": "947a17a8-9c1a-4a28-bb0b-979a32e79d99",
   "metadata": {},
   "source": [
    "### Data Claning"
   ]
  },
  {
   "cell_type": "markdown",
   "id": "628fd884-134d-445a-81e4-185d4d0b928e",
   "metadata": {},
   "source": [
    "##### Drop Duplicated"
   ]
  },
  {
   "cell_type": "code",
   "execution_count": 5,
   "id": "5f965ee9-4f46-43e5-9f57-e4d31bc79da3",
   "metadata": {},
   "outputs": [
    {
     "data": {
      "text/plain": [
       "(3672, 12)"
      ]
     },
     "execution_count": 5,
     "metadata": {},
     "output_type": "execute_result"
    }
   ],
   "source": [
    "df = df.drop_duplicates()\n",
    "df.shape"
   ]
  },
  {
   "cell_type": "code",
   "execution_count": 7,
   "id": "d6406da5-0cb3-45a0-9b09-bb20a7f2b6ea",
   "metadata": {},
   "outputs": [],
   "source": [
    "data = df.copy()"
   ]
  },
  {
   "cell_type": "code",
   "execution_count": 8,
   "id": "7a96d048-a7cf-469b-8c2c-08d92a0690a2",
   "metadata": {},
   "outputs": [
    {
     "data": {
      "text/plain": [
       "0                  Ultimate Investment Banking Course\n",
       "1    Complete Course Certification Grow Your Practice\n",
       "2    Financial Modeling Business Analysts Consultants\n",
       "3              Beginner Financial Analysis Excel 2017\n",
       "4               Maximize Your Profits Trading Options\n",
       "Name: course_title, dtype: object"
      ]
     },
     "execution_count": 8,
     "metadata": {},
     "output_type": "execute_result"
    }
   ],
   "source": [
    "#Eliminar palabras del titulo\n",
    "data['course_title'] = data['course_title'].apply(nfx.remove_shortwords)\n",
    "data.course_title.head()"
   ]
  },
  {
   "cell_type": "markdown",
   "id": "27efe59b-7466-4a49-8d52-e84d94bbdbe0",
   "metadata": {},
   "source": [
    "### Data Preprocessing"
   ]
  },
  {
   "cell_type": "code",
   "execution_count": 9,
   "id": "e332f162-f39f-4609-8409-278fc52c4d0e",
   "metadata": {},
   "outputs": [
    {
     "data": {
      "text/html": [
       "<div>\n",
       "<style scoped>\n",
       "    .dataframe tbody tr th:only-of-type {\n",
       "        vertical-align: middle;\n",
       "    }\n",
       "\n",
       "    .dataframe tbody tr th {\n",
       "        vertical-align: top;\n",
       "    }\n",
       "\n",
       "    .dataframe thead th {\n",
       "        text-align: right;\n",
       "    }\n",
       "</style>\n",
       "<table border=\"1\" class=\"dataframe\">\n",
       "  <thead>\n",
       "    <tr style=\"text-align: right;\">\n",
       "      <th></th>\n",
       "      <th>course_title</th>\n",
       "      <th>subject</th>\n",
       "      <th>title_subject</th>\n",
       "    </tr>\n",
       "  </thead>\n",
       "  <tbody>\n",
       "    <tr>\n",
       "      <th>0</th>\n",
       "      <td>Ultimate Investment Banking Course</td>\n",
       "      <td>Business Finance</td>\n",
       "      <td>Ultimate Investment Banking Course Business Fi...</td>\n",
       "    </tr>\n",
       "    <tr>\n",
       "      <th>1</th>\n",
       "      <td>Complete Course Certification Grow Your Practice</td>\n",
       "      <td>Business Finance</td>\n",
       "      <td>Complete Course Certification Grow Your Practi...</td>\n",
       "    </tr>\n",
       "    <tr>\n",
       "      <th>2</th>\n",
       "      <td>Financial Modeling Business Analysts Consultants</td>\n",
       "      <td>Business Finance</td>\n",
       "      <td>Financial Modeling Business Analysts Consultan...</td>\n",
       "    </tr>\n",
       "    <tr>\n",
       "      <th>3</th>\n",
       "      <td>Beginner Financial Analysis Excel 2017</td>\n",
       "      <td>Business Finance</td>\n",
       "      <td>Beginner Financial Analysis Excel 2017 Busines...</td>\n",
       "    </tr>\n",
       "    <tr>\n",
       "      <th>4</th>\n",
       "      <td>Maximize Your Profits Trading Options</td>\n",
       "      <td>Business Finance</td>\n",
       "      <td>Maximize Your Profits Trading Options Business...</td>\n",
       "    </tr>\n",
       "  </tbody>\n",
       "</table>\n",
       "</div>"
      ],
      "text/plain": [
       "                                       course_title           subject  \\\n",
       "0                Ultimate Investment Banking Course  Business Finance   \n",
       "1  Complete Course Certification Grow Your Practice  Business Finance   \n",
       "2  Financial Modeling Business Analysts Consultants  Business Finance   \n",
       "3            Beginner Financial Analysis Excel 2017  Business Finance   \n",
       "4             Maximize Your Profits Trading Options  Business Finance   \n",
       "\n",
       "                                       title_subject  \n",
       "0  Ultimate Investment Banking Course Business Fi...  \n",
       "1  Complete Course Certification Grow Your Practi...  \n",
       "2  Financial Modeling Business Analysts Consultan...  \n",
       "3  Beginner Financial Analysis Excel 2017 Busines...  \n",
       "4  Maximize Your Profits Trading Options Business...  "
      ]
     },
     "execution_count": 9,
     "metadata": {},
     "output_type": "execute_result"
    }
   ],
   "source": [
    "#concatenar la columa titulo y subject\n",
    "data['title_subject'] = data['course_title'] + ' ' +  data['subject']\n",
    "data[['course_title', 'subject', 'title_subject']].head()"
   ]
  },
  {
   "cell_type": "code",
   "execution_count": 10,
   "id": "e246651a-3756-4e7c-a749-3f80efeb2f68",
   "metadata": {},
   "outputs": [],
   "source": [
    "vectorizer = TfidfVectorizer()"
   ]
  },
  {
   "cell_type": "code",
   "execution_count": 11,
   "id": "1f6806b6-a496-459d-9165-205b29c04491",
   "metadata": {},
   "outputs": [],
   "source": [
    "tfid = vectorizer.fit_transform(data['title_subject'])"
   ]
  },
  {
   "cell_type": "code",
   "execution_count": 14,
   "id": "40e6d0f2-880b-4a81-8b72-a339f691831c",
   "metadata": {},
   "outputs": [],
   "source": [
    "def search(query, vectorizer):\n",
    "    query_vec = vectorizer.transform([query])\n",
    "    similarity = cosine_similarity(query_vec, tfid).flatten()\n",
    "    indeces = np.argpartition(similarity, -10)[-10:]\n",
    "    results = data.iloc[indeces]\n",
    "    results = results.sort_values('num_subscribers',ascending= False)\n",
    "\n",
    "    return results.head(5)\n"
   ]
  },
  {
   "cell_type": "code",
   "execution_count": 18,
   "id": "31084a74-bcd8-4054-bd7c-8966eab378ef",
   "metadata": {},
   "outputs": [
    {
     "data": {
      "text/html": [
       "<div>\n",
       "<style scoped>\n",
       "    .dataframe tbody tr th:only-of-type {\n",
       "        vertical-align: middle;\n",
       "    }\n",
       "\n",
       "    .dataframe tbody tr th {\n",
       "        vertical-align: top;\n",
       "    }\n",
       "\n",
       "    .dataframe thead th {\n",
       "        text-align: right;\n",
       "    }\n",
       "</style>\n",
       "<table border=\"1\" class=\"dataframe\">\n",
       "  <thead>\n",
       "    <tr style=\"text-align: right;\">\n",
       "      <th></th>\n",
       "      <th>course_title</th>\n",
       "      <th>subject</th>\n",
       "    </tr>\n",
       "  </thead>\n",
       "  <tbody>\n",
       "    <tr>\n",
       "      <th>40</th>\n",
       "      <td>Complete Financial Analyst Course 2017</td>\n",
       "      <td>Business Finance</td>\n",
       "    </tr>\n",
       "    <tr>\n",
       "      <th>3256</th>\n",
       "      <td>Complete Course</td>\n",
       "      <td>Web Development</td>\n",
       "    </tr>\n",
       "    <tr>\n",
       "      <th>39</th>\n",
       "      <td>Complete Investment Banking Course 2017</td>\n",
       "      <td>Business Finance</td>\n",
       "    </tr>\n",
       "    <tr>\n",
       "      <th>0</th>\n",
       "      <td>Ultimate Investment Banking Course</td>\n",
       "      <td>Business Finance</td>\n",
       "    </tr>\n",
       "    <tr>\n",
       "      <th>137</th>\n",
       "      <td>Intro Investment Banking Modeling Free Book</td>\n",
       "      <td>Business Finance</td>\n",
       "    </tr>\n",
       "  </tbody>\n",
       "</table>\n",
       "</div>"
      ],
      "text/plain": [
       "                                     course_title           subject\n",
       "40         Complete Financial Analyst Course 2017  Business Finance\n",
       "3256                              Complete Course   Web Development\n",
       "39        Complete Investment Banking Course 2017  Business Finance\n",
       "0              Ultimate Investment Banking Course  Business Finance\n",
       "137   Intro Investment Banking Modeling Free Book  Business Finance"
      ]
     },
     "execution_count": 18,
     "metadata": {},
     "output_type": "execute_result"
    }
   ],
   "source": [
    "search('Complete Investment Banking Course 2017', vectorizer)[['course_title', 'subject']]"
   ]
  }
 ],
 "metadata": {
  "kernelspec": {
   "display_name": "Python 3 (ipykernel)",
   "language": "python",
   "name": "python3"
  },
  "language_info": {
   "codemirror_mode": {
    "name": "ipython",
    "version": 3
   },
   "file_extension": ".py",
   "mimetype": "text/x-python",
   "name": "python",
   "nbconvert_exporter": "python",
   "pygments_lexer": "ipython3",
   "version": "3.11.8"
  }
 },
 "nbformat": 4,
 "nbformat_minor": 5
}
