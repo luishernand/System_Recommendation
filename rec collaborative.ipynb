{
 "cells": [
  {
   "cell_type": "markdown",
   "id": "733cf5ba-f71c-4790-a64d-72c589a5d219",
   "metadata": {},
   "source": [
    "# Content Based Recommendation System"
   ]
  },
  {
   "cell_type": "markdown",
   "id": "cc3a913b-f7d4-4c70-a9cd-298397a10ff9",
   "metadata": {},
   "source": [
    "**Libraries**"
   ]
  },
  {
   "cell_type": "code",
   "execution_count": 1,
   "id": "6c16b0a8-cde6-42fd-8a38-ea3959dc10fe",
   "metadata": {},
   "outputs": [],
   "source": [
    "import pandas as pd\n",
    "import numpy as np\n",
    "#avoid Warnings\n",
    "import warnings\n",
    "warnings.filterwarnings('ignore')"
   ]
  },
  {
   "cell_type": "code",
   "execution_count": 2,
   "id": "4953f67a-5a19-4be3-8542-314354506678",
   "metadata": {},
   "outputs": [
    {
     "data": {
      "text/html": [
       "<div>\n",
       "<style scoped>\n",
       "    .dataframe tbody tr th:only-of-type {\n",
       "        vertical-align: middle;\n",
       "    }\n",
       "\n",
       "    .dataframe tbody tr th {\n",
       "        vertical-align: top;\n",
       "    }\n",
       "\n",
       "    .dataframe thead th {\n",
       "        text-align: right;\n",
       "    }\n",
       "</style>\n",
       "<table border=\"1\" class=\"dataframe\">\n",
       "  <thead>\n",
       "    <tr style=\"text-align: right;\">\n",
       "      <th></th>\n",
       "      <th>course_id</th>\n",
       "      <th>course_title</th>\n",
       "      <th>url</th>\n",
       "      <th>is_paid</th>\n",
       "      <th>price</th>\n",
       "      <th>num_subscribers</th>\n",
       "      <th>num_reviews</th>\n",
       "      <th>num_lectures</th>\n",
       "      <th>level</th>\n",
       "      <th>content_duration</th>\n",
       "      <th>published_timestamp</th>\n",
       "      <th>subject</th>\n",
       "    </tr>\n",
       "  </thead>\n",
       "  <tbody>\n",
       "    <tr>\n",
       "      <th>0</th>\n",
       "      <td>1070968</td>\n",
       "      <td>Ultimate Investment Banking Course</td>\n",
       "      <td>https://www.udemy.com/ultimate-investment-bank...</td>\n",
       "      <td>True</td>\n",
       "      <td>200</td>\n",
       "      <td>2147</td>\n",
       "      <td>23</td>\n",
       "      <td>51</td>\n",
       "      <td>All Levels</td>\n",
       "      <td>1.5</td>\n",
       "      <td>2017-01-18T20:58:58Z</td>\n",
       "      <td>Business Finance</td>\n",
       "    </tr>\n",
       "    <tr>\n",
       "      <th>1</th>\n",
       "      <td>1113822</td>\n",
       "      <td>Complete GST Course &amp; Certification - Grow You...</td>\n",
       "      <td>https://www.udemy.com/goods-and-services-tax/</td>\n",
       "      <td>True</td>\n",
       "      <td>75</td>\n",
       "      <td>2792</td>\n",
       "      <td>923</td>\n",
       "      <td>274</td>\n",
       "      <td>All Levels</td>\n",
       "      <td>39.0</td>\n",
       "      <td>2017-03-09T16:34:20Z</td>\n",
       "      <td>Business Finance</td>\n",
       "    </tr>\n",
       "  </tbody>\n",
       "</table>\n",
       "</div>"
      ],
      "text/plain": [
       "   course_id                                       course_title  \\\n",
       "0    1070968                 Ultimate Investment Banking Course   \n",
       "1    1113822  Complete GST Course & Certification - Grow You...   \n",
       "\n",
       "                                                 url  is_paid  price  \\\n",
       "0  https://www.udemy.com/ultimate-investment-bank...     True    200   \n",
       "1      https://www.udemy.com/goods-and-services-tax/     True     75   \n",
       "\n",
       "   num_subscribers  num_reviews  num_lectures       level  content_duration  \\\n",
       "0             2147           23            51  All Levels               1.5   \n",
       "1             2792          923           274  All Levels              39.0   \n",
       "\n",
       "    published_timestamp           subject  \n",
       "0  2017-01-18T20:58:58Z  Business Finance  \n",
       "1  2017-03-09T16:34:20Z  Business Finance  "
      ]
     },
     "execution_count": 2,
     "metadata": {},
     "output_type": "execute_result"
    }
   ],
   "source": [
    "df = pd.read_csv('data.csv')\n",
    "\n",
    "#drop duplicates \n",
    "df = df.drop_duplicates()\n",
    "df.head(2)"
   ]
  },
  {
   "cell_type": "markdown",
   "id": "8651994d-90d4-4274-9953-41095655c22f",
   "metadata": {},
   "source": [
    "### Add New Column"
   ]
  },
  {
   "cell_type": "code",
   "execution_count": 4,
   "id": "6d118662-677e-4b17-8e9a-cae6e3963155",
   "metadata": {},
   "outputs": [
    {
     "data": {
      "text/html": [
       "<div>\n",
       "<style scoped>\n",
       "    .dataframe tbody tr th:only-of-type {\n",
       "        vertical-align: middle;\n",
       "    }\n",
       "\n",
       "    .dataframe tbody tr th {\n",
       "        vertical-align: top;\n",
       "    }\n",
       "\n",
       "    .dataframe thead th {\n",
       "        text-align: right;\n",
       "    }\n",
       "</style>\n",
       "<table border=\"1\" class=\"dataframe\">\n",
       "  <thead>\n",
       "    <tr style=\"text-align: right;\">\n",
       "      <th></th>\n",
       "      <th>course_title</th>\n",
       "      <th>subject</th>\n",
       "      <th>title_subject</th>\n",
       "    </tr>\n",
       "  </thead>\n",
       "  <tbody>\n",
       "    <tr>\n",
       "      <th>0</th>\n",
       "      <td>Ultimate Investment Banking Course</td>\n",
       "      <td>Business Finance</td>\n",
       "      <td>Ultimate Investment Banking Course Business Fi...</td>\n",
       "    </tr>\n",
       "    <tr>\n",
       "      <th>1</th>\n",
       "      <td>Complete GST Course &amp; Certification - Grow You...</td>\n",
       "      <td>Business Finance</td>\n",
       "      <td>Complete GST Course &amp; Certification - Grow You...</td>\n",
       "    </tr>\n",
       "    <tr>\n",
       "      <th>2</th>\n",
       "      <td>Financial Modeling for Business Analysts and C...</td>\n",
       "      <td>Business Finance</td>\n",
       "      <td>Financial Modeling for Business Analysts and C...</td>\n",
       "    </tr>\n",
       "    <tr>\n",
       "      <th>3</th>\n",
       "      <td>Beginner to Pro - Financial Analysis in Excel ...</td>\n",
       "      <td>Business Finance</td>\n",
       "      <td>Beginner to Pro - Financial Analysis in Excel ...</td>\n",
       "    </tr>\n",
       "    <tr>\n",
       "      <th>4</th>\n",
       "      <td>How To Maximize Your Profits Trading Options</td>\n",
       "      <td>Business Finance</td>\n",
       "      <td>How To Maximize Your Profits Trading Options B...</td>\n",
       "    </tr>\n",
       "  </tbody>\n",
       "</table>\n",
       "</div>"
      ],
      "text/plain": [
       "                                        course_title           subject  \\\n",
       "0                 Ultimate Investment Banking Course  Business Finance   \n",
       "1  Complete GST Course & Certification - Grow You...  Business Finance   \n",
       "2  Financial Modeling for Business Analysts and C...  Business Finance   \n",
       "3  Beginner to Pro - Financial Analysis in Excel ...  Business Finance   \n",
       "4       How To Maximize Your Profits Trading Options  Business Finance   \n",
       "\n",
       "                                       title_subject  \n",
       "0  Ultimate Investment Banking Course Business Fi...  \n",
       "1  Complete GST Course & Certification - Grow You...  \n",
       "2  Financial Modeling for Business Analysts and C...  \n",
       "3  Beginner to Pro - Financial Analysis in Excel ...  \n",
       "4  How To Maximize Your Profits Trading Options B...  "
      ]
     },
     "execution_count": 4,
     "metadata": {},
     "output_type": "execute_result"
    }
   ],
   "source": [
    "#concatenar la columa titulo y subject\n",
    "df['title_subject'] = df['course_title'] + ' ' +  df['subject']\n",
    "df[['course_title', 'subject', 'title_subject']].head()"
   ]
  },
  {
   "cell_type": "markdown",
   "id": "60f55a3a-df66-4ada-870d-5de6aa058675",
   "metadata": {},
   "source": [
    "## Content Based Recomendation System"
   ]
  },
  {
   "cell_type": "code",
   "execution_count": 7,
   "id": "984c654e-defd-49f1-904f-21a1d1ecf756",
   "metadata": {},
   "outputs": [
    {
     "data": {
      "text/plain": [
       "0    Ultimate Investment Banking Course Business Fi...\n",
       "Name: title_subject, dtype: object"
      ]
     },
     "execution_count": 7,
     "metadata": {},
     "output_type": "execute_result"
    }
   ],
   "source": [
    "df.head(1)['title_subject']"
   ]
  },
  {
   "cell_type": "code",
   "execution_count": 9,
   "id": "a1499917-add6-40fc-9fed-128424c9e13e",
   "metadata": {},
   "outputs": [],
   "source": [
    "#setup\n",
    "from sklearn.feature_extraction.text import TfidfVectorizer\n",
    "tdf = TfidfVectorizer(min_df=3, max_features=None,\n",
    "                     strip_accents='unicode', analyzer='word', token_pattern='\\w{1,}',\n",
    "                     ngram_range=(1,3), stop_words='english')"
   ]
  },
  {
   "cell_type": "code",
   "execution_count": 10,
   "id": "32392a71-752d-49d4-ba5c-5e27f7b5685e",
   "metadata": {},
   "outputs": [],
   "source": [
    "#fitting\n",
    "df_matrix = tdf.fit_transform(df['title_subject'])"
   ]
  },
  {
   "cell_type": "code",
   "execution_count": 11,
   "id": "e7c67240-91d8-4758-9178-2b589acd6f27",
   "metadata": {},
   "outputs": [
    {
     "data": {
      "text/plain": [
       "(3672, 2869)"
      ]
     },
     "execution_count": 11,
     "metadata": {},
     "output_type": "execute_result"
    }
   ],
   "source": [
    "df_matrix.shape"
   ]
  },
  {
   "cell_type": "markdown",
   "id": "995a7f9a-11ee-4c45-8412-82e674439354",
   "metadata": {},
   "source": [
    "#### Compute the sigmoid kernel"
   ]
  },
  {
   "cell_type": "code",
   "execution_count": 12,
   "id": "3763aaef-9882-4bdd-8ef1-88fc6aeaaabb",
   "metadata": {},
   "outputs": [],
   "source": [
    "from sklearn.metrics.pairwise import sigmoid_kernel "
   ]
  },
  {
   "cell_type": "code",
   "execution_count": 13,
   "id": "874217ce-01bb-4fec-a75b-c0e5652c8604",
   "metadata": {},
   "outputs": [],
   "source": [
    "sig = sigmoid_kernel(df_matrix, df_matrix)"
   ]
  },
  {
   "cell_type": "markdown",
   "id": "31cf4b2e-b24a-44f9-9d66-ef0453032151",
   "metadata": {},
   "source": [
    "#### Reverse mapping of indeces"
   ]
  },
  {
   "cell_type": "code",
   "execution_count": 15,
   "id": "58807eac-c38d-4322-9594-a729f2925113",
   "metadata": {},
   "outputs": [
    {
     "data": {
      "text/plain": [
       "course_title\n",
       "Ultimate Investment Banking Course                             0\n",
       "Complete GST Course & Certification - Grow Your CA Practice    1\n",
       "dtype: int64"
      ]
     },
     "execution_count": 15,
     "metadata": {},
     "output_type": "execute_result"
    }
   ],
   "source": [
    "indices = pd.Series(df.index, index = df['course_title'])\n",
    "indices.head(2)"
   ]
  },
  {
   "cell_type": "code",
   "execution_count": 17,
   "id": "441ec702-c2ef-4d81-82df-31a01f979b53",
   "metadata": {},
   "outputs": [
    {
     "data": {
      "text/plain": [
       "array([0.76160718, 0.7617405 , 0.7616024 , ..., 0.76159416, 0.76159416,\n",
       "       0.76159416])"
      ]
     },
     "execution_count": 17,
     "metadata": {},
     "output_type": "execute_result"
    }
   ],
   "source": [
    "sig[1]"
   ]
  },
  {
   "cell_type": "code",
   "execution_count": 22,
   "id": "6841c810-6577-4b54-96ee-74b031be5884",
   "metadata": {},
   "outputs": [
    {
     "data": {
      "text/plain": [
       "[(0, 0.7617405006296453),\n",
       " (1, 0.7616071791511033),\n",
       " (2, 0.7616038515743866),\n",
       " (3, 0.761600244221251),\n",
       " (4, 0.7616014227588085),\n",
       " (5, 0.7615998086325286)]"
      ]
     },
     "execution_count": 22,
     "metadata": {},
     "output_type": "execute_result"
    }
   ],
   "source": [
    "list(enumerate(sig[indices['Ultimate Investment Banking Course']]))[0:6]"
   ]
  },
  {
   "cell_type": "code",
   "execution_count": 26,
   "id": "2896e975-f835-447f-bf22-cc795177d492",
   "metadata": {},
   "outputs": [
    {
     "data": {
      "text/plain": [
       "[(417, 0.7616904321676709),\n",
       " (240, 0.7616896553090964),\n",
       " (137, 0.7616699226779012),\n",
       " (722, 0.7616665587188381),\n",
       " (39, 0.7616647674980528)]"
      ]
     },
     "execution_count": 26,
     "metadata": {},
     "output_type": "execute_result"
    }
   ],
   "source": [
    "#order  list of recomendation\n",
    "sorted(list(enumerate(sig[indices['Ultimate Investment Banking Course']])), key = lambda x:x[1], reverse =True)[1:6]"
   ]
  },
  {
   "cell_type": "code",
   "execution_count": 46,
   "id": "17428c48-799c-4672-ac47-afe60a272828",
   "metadata": {},
   "outputs": [],
   "source": [
    "#functioon  get the inces and sorting \n",
    "def give_rec(title, sig = sig):\n",
    "    #get the index of the original recod\n",
    "    idx = indices[title]\n",
    "    #get the similarity score\n",
    "    sig_scores = list(enumerate(sig[idx]))\n",
    "    #sort \n",
    "    sig_scores = sorted(sig_scores, key = lambda x:x[1], reverse = True)\n",
    "    #scores the top 10 recommended\n",
    "    sig_scores = sig_scores[1:10]\n",
    "    #Book indices\n",
    "    book_indices = [i[0] for i in sig_scores]\n",
    "    #Top 10 similarity\n",
    "    # Create a DataFrame with the top 10 courses\n",
    "    df_recommendations = pd.DataFrame({'Top 10 Recommended Courses': df['course_title'].iloc[book_indices]})\n",
    "    return df_recommendations"
   ]
  },
  {
   "cell_type": "code",
   "execution_count": 47,
   "id": "342e1d69-b644-4bf8-bbb0-62e2b127f3af",
   "metadata": {},
   "outputs": [
    {
     "data": {
      "text/html": [
       "<div>\n",
       "<style scoped>\n",
       "    .dataframe tbody tr th:only-of-type {\n",
       "        vertical-align: middle;\n",
       "    }\n",
       "\n",
       "    .dataframe tbody tr th {\n",
       "        vertical-align: top;\n",
       "    }\n",
       "\n",
       "    .dataframe thead th {\n",
       "        text-align: right;\n",
       "    }\n",
       "</style>\n",
       "<table border=\"1\" class=\"dataframe\">\n",
       "  <thead>\n",
       "    <tr style=\"text-align: right;\">\n",
       "      <th></th>\n",
       "      <th>Top 10 Recommended Courses</th>\n",
       "    </tr>\n",
       "  </thead>\n",
       "  <tbody>\n",
       "    <tr>\n",
       "      <th>417</th>\n",
       "      <td>The Investment Banking Recruitment Series</td>\n",
       "    </tr>\n",
       "    <tr>\n",
       "      <th>240</th>\n",
       "      <td>Advanced Accounting for Investment Banking</td>\n",
       "    </tr>\n",
       "    <tr>\n",
       "      <th>137</th>\n",
       "      <td>Intro to Investment Banking, M&amp;A, IPO, Modelin...</td>\n",
       "    </tr>\n",
       "    <tr>\n",
       "      <th>722</th>\n",
       "      <td>Investment Banking Operations : Securities Tra...</td>\n",
       "    </tr>\n",
       "    <tr>\n",
       "      <th>39</th>\n",
       "      <td>The Complete Investment Banking Course 2017</td>\n",
       "    </tr>\n",
       "    <tr>\n",
       "      <th>162</th>\n",
       "      <td>Trading for everyone - The Independent Investo...</td>\n",
       "    </tr>\n",
       "    <tr>\n",
       "      <th>997</th>\n",
       "      <td>Certificate in MYOB AccountRight Premier 2017 ...</td>\n",
       "    </tr>\n",
       "    <tr>\n",
       "      <th>657</th>\n",
       "      <td>Financial Accounting - The Ultimate Beginner C...</td>\n",
       "    </tr>\n",
       "    <tr>\n",
       "      <th>435</th>\n",
       "      <td>Simple Linear Regression Analysis ( A Complete...</td>\n",
       "    </tr>\n",
       "  </tbody>\n",
       "</table>\n",
       "</div>"
      ],
      "text/plain": [
       "                            Top 10 Recommended Courses\n",
       "417          The Investment Banking Recruitment Series\n",
       "240         Advanced Accounting for Investment Banking\n",
       "137  Intro to Investment Banking, M&A, IPO, Modelin...\n",
       "722  Investment Banking Operations : Securities Tra...\n",
       "39         The Complete Investment Banking Course 2017\n",
       "162  Trading for everyone - The Independent Investo...\n",
       "997  Certificate in MYOB AccountRight Premier 2017 ...\n",
       "657  Financial Accounting - The Ultimate Beginner C...\n",
       "435  Simple Linear Regression Analysis ( A Complete..."
      ]
     },
     "execution_count": 47,
     "metadata": {},
     "output_type": "execute_result"
    }
   ],
   "source": [
    "give_rec('Ultimate Investment Banking Course')"
   ]
  }
 ],
 "metadata": {
  "kernelspec": {
   "display_name": "Python 3 (ipykernel)",
   "language": "python",
   "name": "python3"
  },
  "language_info": {
   "codemirror_mode": {
    "name": "ipython",
    "version": 3
   },
   "file_extension": ".py",
   "mimetype": "text/x-python",
   "name": "python",
   "nbconvert_exporter": "python",
   "pygments_lexer": "ipython3",
   "version": "3.11.8"
  }
 },
 "nbformat": 4,
 "nbformat_minor": 5
}
