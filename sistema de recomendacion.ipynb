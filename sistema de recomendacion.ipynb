{
 "cells": [
  {
   "cell_type": "markdown",
   "id": "19ffd88c-3232-4aef-99bb-f8142ebf26db",
   "metadata": {},
   "source": [
    "# Sistema de Recomendación"
   ]
  },
  {
   "cell_type": "markdown",
   "id": "bb7b87ea-a188-49a1-9aaa-a41f387ea233",
   "metadata": {},
   "source": [
    "**Librerias**"
   ]
  },
  {
   "cell_type": "code",
   "execution_count": 1,
   "id": "5e5859d0-57c8-4cc2-bc28-6643281d9bd8",
   "metadata": {},
   "outputs": [],
   "source": [
    "import pandas as pd\n",
    "import numpy as np\n",
    "import neattext.functions  as nfx\n",
    "from sklearn.feature_extraction.text import TfidfVectorizer, CountVectorizer\n",
    "from sklearn.metrics.pairwise import cosine_similarity"
   ]
  },
  {
   "cell_type": "code",
   "execution_count": 2,
   "id": "3e589c54-ebe8-41f0-ad9c-5e4f02742856",
   "metadata": {},
   "outputs": [],
   "source": [
    "#avoid Warnings\n",
    "import warnings\n",
    "warnings.filterwarnings('ignore')"
   ]
  },
  {
   "cell_type": "markdown",
   "id": "06b4cbcd-a845-49cd-b1c7-f81b0acb5feb",
   "metadata": {},
   "source": [
    "## Cargar los datos"
   ]
  },
  {
   "cell_type": "code",
   "execution_count": 3,
   "id": "b8adcd98-2ba7-402b-a4d7-9eecc9c19c3e",
   "metadata": {},
   "outputs": [
    {
     "data": {
      "text/html": [
       "<div>\n",
       "<style scoped>\n",
       "    .dataframe tbody tr th:only-of-type {\n",
       "        vertical-align: middle;\n",
       "    }\n",
       "\n",
       "    .dataframe tbody tr th {\n",
       "        vertical-align: top;\n",
       "    }\n",
       "\n",
       "    .dataframe thead th {\n",
       "        text-align: right;\n",
       "    }\n",
       "</style>\n",
       "<table border=\"1\" class=\"dataframe\">\n",
       "  <thead>\n",
       "    <tr style=\"text-align: right;\">\n",
       "      <th></th>\n",
       "      <th>course_id</th>\n",
       "      <th>course_title</th>\n",
       "      <th>url</th>\n",
       "      <th>is_paid</th>\n",
       "      <th>price</th>\n",
       "      <th>num_subscribers</th>\n",
       "      <th>num_reviews</th>\n",
       "      <th>num_lectures</th>\n",
       "      <th>level</th>\n",
       "      <th>content_duration</th>\n",
       "      <th>published_timestamp</th>\n",
       "      <th>subject</th>\n",
       "    </tr>\n",
       "  </thead>\n",
       "  <tbody>\n",
       "    <tr>\n",
       "      <th>0</th>\n",
       "      <td>1070968</td>\n",
       "      <td>Ultimate Investment Banking Course</td>\n",
       "      <td>https://www.udemy.com/ultimate-investment-bank...</td>\n",
       "      <td>True</td>\n",
       "      <td>200</td>\n",
       "      <td>2147</td>\n",
       "      <td>23</td>\n",
       "      <td>51</td>\n",
       "      <td>All Levels</td>\n",
       "      <td>1.5</td>\n",
       "      <td>2017-01-18T20:58:58Z</td>\n",
       "      <td>Business Finance</td>\n",
       "    </tr>\n",
       "    <tr>\n",
       "      <th>1</th>\n",
       "      <td>1113822</td>\n",
       "      <td>Complete GST Course &amp; Certification - Grow You...</td>\n",
       "      <td>https://www.udemy.com/goods-and-services-tax/</td>\n",
       "      <td>True</td>\n",
       "      <td>75</td>\n",
       "      <td>2792</td>\n",
       "      <td>923</td>\n",
       "      <td>274</td>\n",
       "      <td>All Levels</td>\n",
       "      <td>39.0</td>\n",
       "      <td>2017-03-09T16:34:20Z</td>\n",
       "      <td>Business Finance</td>\n",
       "    </tr>\n",
       "  </tbody>\n",
       "</table>\n",
       "</div>"
      ],
      "text/plain": [
       "   course_id                                       course_title  \\\n",
       "0    1070968                 Ultimate Investment Banking Course   \n",
       "1    1113822  Complete GST Course & Certification - Grow You...   \n",
       "\n",
       "                                                 url  is_paid  price  \\\n",
       "0  https://www.udemy.com/ultimate-investment-bank...     True    200   \n",
       "1      https://www.udemy.com/goods-and-services-tax/     True     75   \n",
       "\n",
       "   num_subscribers  num_reviews  num_lectures       level  content_duration  \\\n",
       "0             2147           23            51  All Levels               1.5   \n",
       "1             2792          923           274  All Levels              39.0   \n",
       "\n",
       "    published_timestamp           subject  \n",
       "0  2017-01-18T20:58:58Z  Business Finance  \n",
       "1  2017-03-09T16:34:20Z  Business Finance  "
      ]
     },
     "execution_count": 3,
     "metadata": {},
     "output_type": "execute_result"
    }
   ],
   "source": [
    "df = pd.read_csv('data.csv')\n",
    "df.head(2) #show first 2 rows"
   ]
  },
  {
   "cell_type": "code",
   "execution_count": 4,
   "id": "59278521-56bb-4f94-bb51-71a8c8181e2d",
   "metadata": {},
   "outputs": [
    {
     "data": {
      "text/plain": [
       "(3678, 12)"
      ]
     },
     "execution_count": 4,
     "metadata": {},
     "output_type": "execute_result"
    }
   ],
   "source": [
    "#rows and columns\n",
    "df.shape"
   ]
  },
  {
   "cell_type": "markdown",
   "id": "df597f42-431e-4b95-bb87-4498ba35b814",
   "metadata": {},
   "source": [
    "## EDA"
   ]
  },
  {
   "cell_type": "markdown",
   "id": "83705165-ae58-4434-a4a5-f55b4180877f",
   "metadata": {},
   "source": [
    "#### Información General"
   ]
  },
  {
   "cell_type": "code",
   "execution_count": 5,
   "id": "9dfa0d1b-8cba-4c74-909c-1815ecc747c2",
   "metadata": {},
   "outputs": [
    {
     "name": "stdout",
     "output_type": "stream",
     "text": [
      "<class 'pandas.core.frame.DataFrame'>\n",
      "RangeIndex: 3678 entries, 0 to 3677\n",
      "Data columns (total 12 columns):\n",
      " #   Column               Non-Null Count  Dtype  \n",
      "---  ------               --------------  -----  \n",
      " 0   course_id            3678 non-null   int64  \n",
      " 1   course_title         3678 non-null   object \n",
      " 2   url                  3678 non-null   object \n",
      " 3   is_paid              3678 non-null   bool   \n",
      " 4   price                3678 non-null   int64  \n",
      " 5   num_subscribers      3678 non-null   int64  \n",
      " 6   num_reviews          3678 non-null   int64  \n",
      " 7   num_lectures         3678 non-null   int64  \n",
      " 8   level                3678 non-null   object \n",
      " 9   content_duration     3678 non-null   float64\n",
      " 10  published_timestamp  3678 non-null   object \n",
      " 11  subject              3678 non-null   object \n",
      "dtypes: bool(1), float64(1), int64(5), object(5)\n",
      "memory usage: 319.8+ KB\n"
     ]
    }
   ],
   "source": [
    "df.info()"
   ]
  },
  {
   "cell_type": "markdown",
   "id": "a08c32a9-6fc1-43ad-a6c7-389009d7b144",
   "metadata": {},
   "source": [
    "#### Verificar Valores nulos"
   ]
  },
  {
   "cell_type": "code",
   "execution_count": 6,
   "id": "ab89e31e-165c-4afe-be0f-2d4a77c4262c",
   "metadata": {},
   "outputs": [
    {
     "data": {
      "text/plain": [
       "course_id              0\n",
       "course_title           0\n",
       "url                    0\n",
       "is_paid                0\n",
       "price                  0\n",
       "num_subscribers        0\n",
       "num_reviews            0\n",
       "num_lectures           0\n",
       "level                  0\n",
       "content_duration       0\n",
       "published_timestamp    0\n",
       "subject                0\n",
       "dtype: int64"
      ]
     },
     "execution_count": 6,
     "metadata": {},
     "output_type": "execute_result"
    }
   ],
   "source": [
    "df.isnull().sum()"
   ]
  },
  {
   "cell_type": "markdown",
   "id": "6d37c649-076f-4d36-9b6c-13eeffbb3c69",
   "metadata": {},
   "source": [
    "#### Verificar si existen datos duplicados"
   ]
  },
  {
   "cell_type": "code",
   "execution_count": 7,
   "id": "0710f25b-5fa8-43a6-8438-88e5854ff134",
   "metadata": {},
   "outputs": [
    {
     "data": {
      "text/plain": [
       "True"
      ]
     },
     "execution_count": 7,
     "metadata": {},
     "output_type": "execute_result"
    }
   ],
   "source": [
    "df.duplicated().any()"
   ]
  },
  {
   "cell_type": "code",
   "execution_count": 8,
   "id": "118942d0-0d02-43b0-8ed8-7f86e9283569",
   "metadata": {},
   "outputs": [
    {
     "data": {
      "text/plain": [
       "6"
      ]
     },
     "execution_count": 8,
     "metadata": {},
     "output_type": "execute_result"
    }
   ],
   "source": [
    "#count of Duplicated data\n",
    "len(df[df.duplicated()])"
   ]
  },
  {
   "cell_type": "code",
   "execution_count": 9,
   "id": "b87fb0d8-7935-413b-b5da-4b45844f064a",
   "metadata": {},
   "outputs": [
    {
     "data": {
      "text/html": [
       "<div>\n",
       "<style scoped>\n",
       "    .dataframe tbody tr th:only-of-type {\n",
       "        vertical-align: middle;\n",
       "    }\n",
       "\n",
       "    .dataframe tbody tr th {\n",
       "        vertical-align: top;\n",
       "    }\n",
       "\n",
       "    .dataframe thead th {\n",
       "        text-align: right;\n",
       "    }\n",
       "</style>\n",
       "<table border=\"1\" class=\"dataframe\">\n",
       "  <thead>\n",
       "    <tr style=\"text-align: right;\">\n",
       "      <th></th>\n",
       "      <th>course_id</th>\n",
       "      <th>course_title</th>\n",
       "      <th>url</th>\n",
       "      <th>is_paid</th>\n",
       "      <th>price</th>\n",
       "      <th>num_subscribers</th>\n",
       "      <th>num_reviews</th>\n",
       "      <th>num_lectures</th>\n",
       "      <th>level</th>\n",
       "      <th>content_duration</th>\n",
       "      <th>published_timestamp</th>\n",
       "      <th>subject</th>\n",
       "    </tr>\n",
       "  </thead>\n",
       "  <tbody>\n",
       "    <tr>\n",
       "      <th>787</th>\n",
       "      <td>837322</td>\n",
       "      <td>Essentials of money value: Get a financial Life !</td>\n",
       "      <td>https://www.udemy.com/essentials-of-money-value/</td>\n",
       "      <td>True</td>\n",
       "      <td>20</td>\n",
       "      <td>0</td>\n",
       "      <td>0</td>\n",
       "      <td>20</td>\n",
       "      <td>All Levels</td>\n",
       "      <td>0.616667</td>\n",
       "      <td>2016-05-16T18:28:30Z</td>\n",
       "      <td>Business Finance</td>\n",
       "    </tr>\n",
       "    <tr>\n",
       "      <th>788</th>\n",
       "      <td>1157298</td>\n",
       "      <td>Introduction to Forex Trading Business For Beg...</td>\n",
       "      <td>https://www.udemy.com/introduction-to-forex-tr...</td>\n",
       "      <td>True</td>\n",
       "      <td>20</td>\n",
       "      <td>0</td>\n",
       "      <td>0</td>\n",
       "      <td>27</td>\n",
       "      <td>Beginner Level</td>\n",
       "      <td>1.500000</td>\n",
       "      <td>2017-04-23T16:19:01Z</td>\n",
       "      <td>Business Finance</td>\n",
       "    </tr>\n",
       "    <tr>\n",
       "      <th>894</th>\n",
       "      <td>1035638</td>\n",
       "      <td>Understanding Financial Statements</td>\n",
       "      <td>https://www.udemy.com/understanding-financial-...</td>\n",
       "      <td>True</td>\n",
       "      <td>25</td>\n",
       "      <td>0</td>\n",
       "      <td>0</td>\n",
       "      <td>10</td>\n",
       "      <td>All Levels</td>\n",
       "      <td>1.000000</td>\n",
       "      <td>2016-12-15T14:56:17Z</td>\n",
       "      <td>Business Finance</td>\n",
       "    </tr>\n",
       "    <tr>\n",
       "      <th>1100</th>\n",
       "      <td>1084454</td>\n",
       "      <td>CFA Level 2- Quantitative Methods</td>\n",
       "      <td>https://www.udemy.com/cfa-level-2-quantitative...</td>\n",
       "      <td>True</td>\n",
       "      <td>40</td>\n",
       "      <td>0</td>\n",
       "      <td>0</td>\n",
       "      <td>35</td>\n",
       "      <td>All Levels</td>\n",
       "      <td>5.500000</td>\n",
       "      <td>2017-07-02T14:29:35Z</td>\n",
       "      <td>Business Finance</td>\n",
       "    </tr>\n",
       "    <tr>\n",
       "      <th>1473</th>\n",
       "      <td>185526</td>\n",
       "      <td>MicroStation - Células</td>\n",
       "      <td>https://www.udemy.com/microstation-celulas/</td>\n",
       "      <td>True</td>\n",
       "      <td>20</td>\n",
       "      <td>0</td>\n",
       "      <td>0</td>\n",
       "      <td>9</td>\n",
       "      <td>Beginner Level</td>\n",
       "      <td>0.616667</td>\n",
       "      <td>2014-04-15T21:48:55Z</td>\n",
       "      <td>Graphic Design</td>\n",
       "    </tr>\n",
       "    <tr>\n",
       "      <th>2561</th>\n",
       "      <td>28295</td>\n",
       "      <td>Learn Web Designing &amp; HTML5/CSS3 Essentials in...</td>\n",
       "      <td>https://www.udemy.com/build-beautiful-html5-we...</td>\n",
       "      <td>True</td>\n",
       "      <td>75</td>\n",
       "      <td>43285</td>\n",
       "      <td>525</td>\n",
       "      <td>24</td>\n",
       "      <td>All Levels</td>\n",
       "      <td>4.000000</td>\n",
       "      <td>2013-01-03T00:55:31Z</td>\n",
       "      <td>Web Development</td>\n",
       "    </tr>\n",
       "  </tbody>\n",
       "</table>\n",
       "</div>"
      ],
      "text/plain": [
       "      course_id                                       course_title  \\\n",
       "787      837322  Essentials of money value: Get a financial Life !   \n",
       "788     1157298  Introduction to Forex Trading Business For Beg...   \n",
       "894     1035638                 Understanding Financial Statements   \n",
       "1100    1084454                  CFA Level 2- Quantitative Methods   \n",
       "1473     185526                             MicroStation - Células   \n",
       "2561      28295  Learn Web Designing & HTML5/CSS3 Essentials in...   \n",
       "\n",
       "                                                    url  is_paid  price  \\\n",
       "787    https://www.udemy.com/essentials-of-money-value/     True     20   \n",
       "788   https://www.udemy.com/introduction-to-forex-tr...     True     20   \n",
       "894   https://www.udemy.com/understanding-financial-...     True     25   \n",
       "1100  https://www.udemy.com/cfa-level-2-quantitative...     True     40   \n",
       "1473        https://www.udemy.com/microstation-celulas/     True     20   \n",
       "2561  https://www.udemy.com/build-beautiful-html5-we...     True     75   \n",
       "\n",
       "      num_subscribers  num_reviews  num_lectures           level  \\\n",
       "787                 0            0            20      All Levels   \n",
       "788                 0            0            27  Beginner Level   \n",
       "894                 0            0            10      All Levels   \n",
       "1100                0            0            35      All Levels   \n",
       "1473                0            0             9  Beginner Level   \n",
       "2561            43285          525            24      All Levels   \n",
       "\n",
       "      content_duration   published_timestamp           subject  \n",
       "787           0.616667  2016-05-16T18:28:30Z  Business Finance  \n",
       "788           1.500000  2017-04-23T16:19:01Z  Business Finance  \n",
       "894           1.000000  2016-12-15T14:56:17Z  Business Finance  \n",
       "1100          5.500000  2017-07-02T14:29:35Z  Business Finance  \n",
       "1473          0.616667  2014-04-15T21:48:55Z    Graphic Design  \n",
       "2561          4.000000  2013-01-03T00:55:31Z   Web Development  "
      ]
     },
     "execution_count": 9,
     "metadata": {},
     "output_type": "execute_result"
    }
   ],
   "source": [
    "#show the duplicated data\n",
    "df[df.duplicated()]"
   ]
  },
  {
   "cell_type": "code",
   "execution_count": 10,
   "id": "7267973a-2be5-4605-a67f-f3a9908cfabe",
   "metadata": {},
   "outputs": [
    {
     "data": {
      "text/html": [
       "<div>\n",
       "<style scoped>\n",
       "    .dataframe tbody tr th:only-of-type {\n",
       "        vertical-align: middle;\n",
       "    }\n",
       "\n",
       "    .dataframe tbody tr th {\n",
       "        vertical-align: top;\n",
       "    }\n",
       "\n",
       "    .dataframe thead th {\n",
       "        text-align: right;\n",
       "    }\n",
       "</style>\n",
       "<table border=\"1\" class=\"dataframe\">\n",
       "  <thead>\n",
       "    <tr style=\"text-align: right;\">\n",
       "      <th></th>\n",
       "      <th>course_id</th>\n",
       "      <th>course_title</th>\n",
       "      <th>url</th>\n",
       "      <th>is_paid</th>\n",
       "      <th>price</th>\n",
       "      <th>num_subscribers</th>\n",
       "      <th>num_reviews</th>\n",
       "      <th>num_lectures</th>\n",
       "      <th>level</th>\n",
       "      <th>content_duration</th>\n",
       "      <th>published_timestamp</th>\n",
       "      <th>subject</th>\n",
       "    </tr>\n",
       "  </thead>\n",
       "  <tbody>\n",
       "    <tr>\n",
       "      <th>453</th>\n",
       "      <td>837322</td>\n",
       "      <td>Essentials of money value: Get a financial Life !</td>\n",
       "      <td>https://www.udemy.com/essentials-of-money-value/</td>\n",
       "      <td>True</td>\n",
       "      <td>20</td>\n",
       "      <td>0</td>\n",
       "      <td>0</td>\n",
       "      <td>20</td>\n",
       "      <td>All Levels</td>\n",
       "      <td>0.616667</td>\n",
       "      <td>2016-05-16T18:28:30Z</td>\n",
       "      <td>Business Finance</td>\n",
       "    </tr>\n",
       "    <tr>\n",
       "      <th>787</th>\n",
       "      <td>837322</td>\n",
       "      <td>Essentials of money value: Get a financial Life !</td>\n",
       "      <td>https://www.udemy.com/essentials-of-money-value/</td>\n",
       "      <td>True</td>\n",
       "      <td>20</td>\n",
       "      <td>0</td>\n",
       "      <td>0</td>\n",
       "      <td>20</td>\n",
       "      <td>All Levels</td>\n",
       "      <td>0.616667</td>\n",
       "      <td>2016-05-16T18:28:30Z</td>\n",
       "      <td>Business Finance</td>\n",
       "    </tr>\n",
       "  </tbody>\n",
       "</table>\n",
       "</div>"
      ],
      "text/plain": [
       "     course_id                                       course_title  \\\n",
       "453     837322  Essentials of money value: Get a financial Life !   \n",
       "787     837322  Essentials of money value: Get a financial Life !   \n",
       "\n",
       "                                                  url  is_paid  price  \\\n",
       "453  https://www.udemy.com/essentials-of-money-value/     True     20   \n",
       "787  https://www.udemy.com/essentials-of-money-value/     True     20   \n",
       "\n",
       "     num_subscribers  num_reviews  num_lectures       level  content_duration  \\\n",
       "453                0            0            20  All Levels          0.616667   \n",
       "787                0            0            20  All Levels          0.616667   \n",
       "\n",
       "      published_timestamp           subject  \n",
       "453  2016-05-16T18:28:30Z  Business Finance  \n",
       "787  2016-05-16T18:28:30Z  Business Finance  "
      ]
     },
     "execution_count": 10,
     "metadata": {},
     "output_type": "execute_result"
    }
   ],
   "source": [
    "df[df['course_id']==837322] #filtar los datos especificos para confirmar los duplicados"
   ]
  },
  {
   "cell_type": "markdown",
   "id": "e6668192-b71e-4474-ab10-5138f7fa4fc4",
   "metadata": {},
   "source": [
    "**Comentarios** \n",
    "- tenemos 6 registros duplicados por lo que debemos de eliminar"
   ]
  },
  {
   "cell_type": "markdown",
   "id": "3c0d1c4c-5c60-48f3-8055-413ab5eba0f9",
   "metadata": {},
   "source": [
    "#### Eliminar los datos duplicados"
   ]
  },
  {
   "cell_type": "code",
   "execution_count": 11,
   "id": "7c20d2ce-6e09-4a90-b1b4-14c141be089b",
   "metadata": {},
   "outputs": [
    {
     "data": {
      "text/plain": [
       "(3672, 12)"
      ]
     },
     "execution_count": 11,
     "metadata": {},
     "output_type": "execute_result"
    }
   ],
   "source": [
    "df = df.drop_duplicates()\n",
    "df.shape"
   ]
  },
  {
   "cell_type": "markdown",
   "id": "e7b39394-f77f-488c-97be-26987b5ea88c",
   "metadata": {},
   "source": [
    "## Popularity Based recomendation System"
   ]
  },
  {
   "cell_type": "markdown",
   "id": "a88b16a2-80cb-4740-87a4-a3aaf925514a",
   "metadata": {},
   "source": [
    "### Que es un sistema de recomendación  \n",
    "Los sistemas de recomendación, a veces llamados en inglés “recommender systems” son algoritmos que intentan “predecir” los siguientes ítems (productos, canciones, etc.) que querrá adquirir un usuario en particular.  \n",
    "\n",
    "- **Popularity:** Aconseja por la “popularidad” de los productos. Por ejemplo, “los más vendidos” globalmente, se ofrecerán a todos los usuarios por igual sin aprovechar la personalización. Es fácil de implementar y en algunos casos es efectiva.\n"
   ]
  },
  {
   "cell_type": "markdown",
   "id": "3eccacec-2c07-4f3e-841f-f15f05d0a86f",
   "metadata": {},
   "source": [
    "#### Función en base a su popularidad"
   ]
  },
  {
   "cell_type": "code",
   "execution_count": 12,
   "id": "ca3b74bf-7283-47dc-8b79-77266965a887",
   "metadata": {},
   "outputs": [],
   "source": [
    "def popularity_based_recommendation(df, top_n=5):\n",
    "  \"\"\"\n",
    "  Recommends courses based on their popularity score.\n",
    "\n",
    "  Args:\n",
    "      df (pandas.DataFrame): The DataFrame containing course data.\n",
    "      top_n (int, optional): The number of top courses to recommend. Defaults to 5.\n",
    "\n",
    "  Returns:\n",
    "      pandas.DataFrame: A DataFrame containing the recommended courses with their titles and popularity scores.\n",
    "  \"\"\"\n",
    "\n",
    "  # Calcular el score de popularidad de cada curso\n",
    "  df['popularity_score'] = 0.6 * df['num_subscribers'] + 0.4 * df['num_reviews']\n",
    "\n",
    "  # ordenar por score de poupularidad\n",
    "  df_sorted = df.sort_values(by='popularity_score', ascending=False)\n",
    "\n",
    "  # Seleccionar las columnas titulo y score de popularidad\n",
    "  recommended_courses = df_sorted[['course_title', 'popularity_score']].head(top_n)\n",
    "\n",
    "  return recommended_courses"
   ]
  },
  {
   "cell_type": "code",
   "execution_count": 13,
   "id": "32628868-2293-4fb8-a932-3134c6be7df5",
   "metadata": {},
   "outputs": [
    {
     "data": {
      "text/html": [
       "<div>\n",
       "<style scoped>\n",
       "    .dataframe tbody tr th:only-of-type {\n",
       "        vertical-align: middle;\n",
       "    }\n",
       "\n",
       "    .dataframe tbody tr th {\n",
       "        vertical-align: top;\n",
       "    }\n",
       "\n",
       "    .dataframe thead th {\n",
       "        text-align: right;\n",
       "    }\n",
       "</style>\n",
       "<table border=\"1\" class=\"dataframe\">\n",
       "  <thead>\n",
       "    <tr style=\"text-align: right;\">\n",
       "      <th></th>\n",
       "      <th>course_title</th>\n",
       "      <th>popularity_score</th>\n",
       "    </tr>\n",
       "  </thead>\n",
       "  <tbody>\n",
       "    <tr>\n",
       "      <th>2827</th>\n",
       "      <td>Learn HTML5 Programming From Scratch</td>\n",
       "      <td>164805.4</td>\n",
       "    </tr>\n",
       "    <tr>\n",
       "      <th>3032</th>\n",
       "      <td>Coding for Entrepreneurs Basic</td>\n",
       "      <td>96729.0</td>\n",
       "    </tr>\n",
       "    <tr>\n",
       "      <th>3230</th>\n",
       "      <td>The Web Developer Bootcamp</td>\n",
       "      <td>83928.4</td>\n",
       "    </tr>\n",
       "    <tr>\n",
       "      <th>3232</th>\n",
       "      <td>The Complete Web Developer Course 2.0</td>\n",
       "      <td>77672.0</td>\n",
       "    </tr>\n",
       "    <tr>\n",
       "      <th>2783</th>\n",
       "      <td>Build Your First Website in 1 Week with HTML5 ...</td>\n",
       "      <td>74544.2</td>\n",
       "    </tr>\n",
       "  </tbody>\n",
       "</table>\n",
       "</div>"
      ],
      "text/plain": [
       "                                           course_title  popularity_score\n",
       "2827               Learn HTML5 Programming From Scratch          164805.4\n",
       "3032                     Coding for Entrepreneurs Basic           96729.0\n",
       "3230                         The Web Developer Bootcamp           83928.4\n",
       "3232              The Complete Web Developer Course 2.0           77672.0\n",
       "2783  Build Your First Website in 1 Week with HTML5 ...           74544.2"
      ]
     },
     "execution_count": 13,
     "metadata": {},
     "output_type": "execute_result"
    }
   ],
   "source": [
    "popularity_based_recommendation(df)"
   ]
  },
  {
   "cell_type": "markdown",
   "id": "6dc7bb8d-1f8b-4778-8a0a-bb784dfcf67c",
   "metadata": {},
   "source": [
    "## Content Based Recomendation System\n",
    "- A partir de productos visitados por el usuario, se intenta “adivinar” qué busca el usuario y ofrecer mercancías similares"
   ]
  },
  {
   "cell_type": "markdown",
   "id": "c369be89-c81c-4530-9c1b-15eb83fe59aa",
   "metadata": {},
   "source": [
    "### Data Cleaning"
   ]
  },
  {
   "cell_type": "code",
   "execution_count": 14,
   "id": "baf8b174-4699-41b5-b749-c3efec4a6b0c",
   "metadata": {},
   "outputs": [
    {
     "data": {
      "text/plain": [
       "0                   Ultimate Investment Banking Course\n",
       "1    Complete GST Course & Certification - Grow You...\n",
       "2    Financial Modeling for Business Analysts and C...\n",
       "3    Beginner to Pro - Financial Analysis in Excel ...\n",
       "4         How To Maximize Your Profits Trading Options\n",
       "Name: course_title, dtype: object"
      ]
     },
     "execution_count": 14,
     "metadata": {},
     "output_type": "execute_result"
    }
   ],
   "source": [
    "df.course_title.head()"
   ]
  },
  {
   "cell_type": "code",
   "execution_count": 15,
   "id": "b9f8bf06-e10a-4546-9f73-33900786e6bb",
   "metadata": {},
   "outputs": [],
   "source": [
    "#Crear una copia de la dat\n",
    "data = df.copy()"
   ]
  },
  {
   "cell_type": "code",
   "execution_count": 16,
   "id": "3ca17fe7-d7b4-4528-ab65-9fcf75ef5f88",
   "metadata": {},
   "outputs": [
    {
     "data": {
      "text/plain": [
       "0                  Ultimate Investment Banking Course\n",
       "1    Complete Course Certification Grow Your Practice\n",
       "2    Financial Modeling Business Analysts Consultants\n",
       "3              Beginner Financial Analysis Excel 2017\n",
       "4               Maximize Your Profits Trading Options\n",
       "Name: course_title, dtype: object"
      ]
     },
     "execution_count": 16,
     "metadata": {},
     "output_type": "execute_result"
    }
   ],
   "source": [
    "#Eliminar palabras del titulo\n",
    "data['course_title'] = data['course_title'].apply(nfx.remove_shortwords)\n",
    "data.course_title.head()"
   ]
  },
  {
   "cell_type": "code",
   "execution_count": 17,
   "id": "46705d5f-f27d-4776-820d-5f1273514ddc",
   "metadata": {},
   "outputs": [
    {
     "data": {
      "text/plain": [
       "0                  Ultimate Investment Banking Course\n",
       "1    Complete Course Certification Grow Your Practice\n",
       "2    Financial Modeling Business Analysts Consultants\n",
       "3              Beginner Financial Analysis Excel 2017\n",
       "4               Maximize Your Profits Trading Options\n",
       "Name: course_title, dtype: object"
      ]
     },
     "execution_count": 17,
     "metadata": {},
     "output_type": "execute_result"
    }
   ],
   "source": [
    "#Remover Caracteres especiales\n",
    "data['course_title'] = data['course_title'].apply(nfx.remove_special_characters)\n",
    "data.course_title.head()"
   ]
  },
  {
   "cell_type": "markdown",
   "id": "a109001e-62fe-41c9-a5fd-7a12eb88c01d",
   "metadata": {},
   "source": [
    "#### Crear nueva columna"
   ]
  },
  {
   "cell_type": "code",
   "execution_count": 18,
   "id": "bb0cff5c-4c3f-4a54-96ed-2313898efad9",
   "metadata": {},
   "outputs": [
    {
     "data": {
      "text/html": [
       "<div>\n",
       "<style scoped>\n",
       "    .dataframe tbody tr th:only-of-type {\n",
       "        vertical-align: middle;\n",
       "    }\n",
       "\n",
       "    .dataframe tbody tr th {\n",
       "        vertical-align: top;\n",
       "    }\n",
       "\n",
       "    .dataframe thead th {\n",
       "        text-align: right;\n",
       "    }\n",
       "</style>\n",
       "<table border=\"1\" class=\"dataframe\">\n",
       "  <thead>\n",
       "    <tr style=\"text-align: right;\">\n",
       "      <th></th>\n",
       "      <th>course_title</th>\n",
       "      <th>subject</th>\n",
       "      <th>title_subject</th>\n",
       "    </tr>\n",
       "  </thead>\n",
       "  <tbody>\n",
       "    <tr>\n",
       "      <th>0</th>\n",
       "      <td>Ultimate Investment Banking Course</td>\n",
       "      <td>Business Finance</td>\n",
       "      <td>Ultimate Investment Banking Course Business Fi...</td>\n",
       "    </tr>\n",
       "    <tr>\n",
       "      <th>1</th>\n",
       "      <td>Complete Course Certification Grow Your Practice</td>\n",
       "      <td>Business Finance</td>\n",
       "      <td>Complete Course Certification Grow Your Practi...</td>\n",
       "    </tr>\n",
       "    <tr>\n",
       "      <th>2</th>\n",
       "      <td>Financial Modeling Business Analysts Consultants</td>\n",
       "      <td>Business Finance</td>\n",
       "      <td>Financial Modeling Business Analysts Consultan...</td>\n",
       "    </tr>\n",
       "    <tr>\n",
       "      <th>3</th>\n",
       "      <td>Beginner Financial Analysis Excel 2017</td>\n",
       "      <td>Business Finance</td>\n",
       "      <td>Beginner Financial Analysis Excel 2017 Busines...</td>\n",
       "    </tr>\n",
       "    <tr>\n",
       "      <th>4</th>\n",
       "      <td>Maximize Your Profits Trading Options</td>\n",
       "      <td>Business Finance</td>\n",
       "      <td>Maximize Your Profits Trading Options Business...</td>\n",
       "    </tr>\n",
       "  </tbody>\n",
       "</table>\n",
       "</div>"
      ],
      "text/plain": [
       "                                       course_title           subject  \\\n",
       "0                Ultimate Investment Banking Course  Business Finance   \n",
       "1  Complete Course Certification Grow Your Practice  Business Finance   \n",
       "2  Financial Modeling Business Analysts Consultants  Business Finance   \n",
       "3            Beginner Financial Analysis Excel 2017  Business Finance   \n",
       "4             Maximize Your Profits Trading Options  Business Finance   \n",
       "\n",
       "                                       title_subject  \n",
       "0  Ultimate Investment Banking Course Business Fi...  \n",
       "1  Complete Course Certification Grow Your Practi...  \n",
       "2  Financial Modeling Business Analysts Consultan...  \n",
       "3  Beginner Financial Analysis Excel 2017 Busines...  \n",
       "4  Maximize Your Profits Trading Options Business...  "
      ]
     },
     "execution_count": 18,
     "metadata": {},
     "output_type": "execute_result"
    }
   ],
   "source": [
    "#concatenar la columa titulo y subject\n",
    "data['title_subject'] = data['course_title'] + ' ' +  data['subject']\n",
    "data[['course_title', 'subject', 'title_subject']].head()"
   ]
  },
  {
   "cell_type": "markdown",
   "id": "89800306-d800-4d2d-963a-aa531efb79e3",
   "metadata": {},
   "source": [
    "#### Data Preprocessing"
   ]
  },
  {
   "cell_type": "code",
   "execution_count": 19,
   "id": "f29dae81-c475-45a8-a4e5-f668bbfa13ce",
   "metadata": {},
   "outputs": [],
   "source": [
    "#vetorizar los datos\n",
    "cv = CountVectorizer(max_features=3000)\n",
    "vectors = cv.fit_transform(data['title_subject']).toarray()"
   ]
  },
  {
   "cell_type": "code",
   "execution_count": 20,
   "id": "16cc5e05-9308-4104-97bd-71276d6bbd60",
   "metadata": {},
   "outputs": [
    {
     "data": {
      "text/plain": [
       "array([0, 0, 0, ..., 0, 0, 0], dtype=int64)"
      ]
     },
     "execution_count": 20,
     "metadata": {},
     "output_type": "execute_result"
    }
   ],
   "source": [
    "vectors[0]"
   ]
  },
  {
   "cell_type": "code",
   "execution_count": 21,
   "id": "f0296481-c2dd-4bf2-b030-30bd0e625fc4",
   "metadata": {},
   "outputs": [
    {
     "data": {
      "text/plain": [
       "3000"
      ]
     },
     "execution_count": 21,
     "metadata": {},
     "output_type": "execute_result"
    }
   ],
   "source": [
    "len(cv.get_feature_names_out()) #verificar si vectorizo la cnatidad marcada"
   ]
  },
  {
   "cell_type": "markdown",
   "id": "82e9f151-ad92-46a0-8eff-0297e10be821",
   "metadata": {},
   "source": [
    "### Calular la distancia del coseno de similaridad"
   ]
  },
  {
   "cell_type": "code",
   "execution_count": 22,
   "id": "4bb8aac1-9dff-4a2b-8bcc-0d7ad4ce7e4a",
   "metadata": {},
   "outputs": [],
   "source": [
    "similarity = cosine_similarity(vectors)"
   ]
  },
  {
   "cell_type": "code",
   "execution_count": 29,
   "id": "45fbc8dc-580a-4db5-ae76-71f051b59a2a",
   "metadata": {},
   "outputs": [],
   "source": [
    "#funcion\n",
    "def recommed_based_contend(course):\n",
    "    course_index = data[data['course_title']==course].index[0]\n",
    "    distances = similarity[course_index]\n",
    "    courses_list = sorted(list(enumerate(distances)), reverse = True, key =lambda x:x[1])[1:6]\n",
    "    for i in courses_list:\n",
    "        print(data.iloc[i[0]]['course_title'])"
   ]
  },
  {
   "cell_type": "code",
   "execution_count": 33,
   "id": "99d35090-8454-4e49-9006-275973dc179b",
   "metadata": {},
   "outputs": [
    {
     "name": "stdout",
     "output_type": "stream",
     "text": [
      "Ultimate Investment Banking Course\n",
      "Complete Financial Analyst Course 2017\n",
      "Cryptocurrency Investment Trading Course 2017\n",
      "2017\n",
      "Complete Short Course Ethereum\n"
     ]
    }
   ],
   "source": [
    "recommed_based_contend('Complete Investment Banking Course 2017')"
   ]
  },
  {
   "cell_type": "markdown",
   "id": "8c1f21b1-d6f8-4cea-966a-7dd1e0cbc0e4",
   "metadata": {},
   "source": [
    "## save"
   ]
  },
  {
   "cell_type": "code",
   "execution_count": 32,
   "id": "fe2d8c77-ccdd-43ec-8660-efb6f2d31956",
   "metadata": {},
   "outputs": [],
   "source": [
    "import pickle"
   ]
  },
  {
   "cell_type": "code",
   "execution_count": 34,
   "id": "e24265aa-674c-49cb-b9b8-98ff36d585da",
   "metadata": {},
   "outputs": [],
   "source": [
    "pickle.dump(similarity, open('similarity.pk', 'wb'))"
   ]
  },
  {
   "cell_type": "markdown",
   "id": "305bf916-ce2f-4c58-bd37-488ca3dcf8a5",
   "metadata": {},
   "source": [
    "## GUI"
   ]
  },
  {
   "cell_type": "code",
   "execution_count": 39,
   "id": "ffd08f54-e314-4f28-a921-13f6519b559f",
   "metadata": {},
   "outputs": [],
   "source": [
    "import pandas as pd\n",
    "import pickle\n",
    "import tkinter as tk\n",
    "from tkinter import ttk, messagebox\n",
    "\n",
    "#1. Sistema de Recomendación Basado en popularidad\n",
    "def popularity_based_recommendation(df, top_n=5):\n",
    "  # Calcular el score de popularidad de cada curso\n",
    "  df['popularity_score'] = 0.6 * df['num_subscribers'] + 0.4 * df['num_reviews']\n",
    "\n",
    "  # ordenar por score de poupularidad\n",
    "  df_sorted = df.sort_values(by='popularity_score', ascending=False)\n",
    "\n",
    "  # Seleccionar las columnas titulo y score de popularidad\n",
    "  recommended_courses = df_sorted[['course_title', 'popularity_score']].head(top_n)\n",
    "\n",
    "  return recommended_courses\n",
    "\n",
    "#funcction bases on contend\n",
    "def recommed(course):\n",
    "    try:\n",
    "       course_index = data[data['course_title']==course].index[0]\n",
    "       distances = similarity[course_index]\n",
    "       courses_list = sorted(list(enumerate(distances)), reverse = True, key =lambda x:x[1])[1:6]\n",
    "       recommended_courses = [data.iloc[i[0]]['course_title'] for i in courses_list]\n",
    "       return recommended_courses\n",
    "    except IndexError:\n",
    "       messagebox.showerror('Error Course {}no found.'.format(course))\n",
    "\n",
    "\n",
    "#3. Button de recomendación\n",
    "def recommend_button_click():\n",
    "   course_title = course_var.get()\n",
    "   recommended_courses = recommed(course_title)\n",
    "   if recommended_courses:\n",
    "      popularity_label.pack_forget()\n",
    "      result_label.config(text=\"Recommended Courses:\\n\" + '\\n'.join(recommended_courses))\n",
    "\n",
    "#4. Application\n",
    "# Create the main applications window\n",
    "root = tk.Tk()\n",
    "root.title('Recommend System')\n",
    "root.geometry('400x300')\n",
    "\n",
    "# change fond and color\n",
    "font_style = ('Arial', 12)\n",
    "label_color = 'blue'\n",
    "heading_color = 'red'\n",
    "button_color = 'green'\n",
    "result_label_color = 'black'\n",
    "\n",
    "#5. Create and Place GUI elements\n",
    "course_titles = data['course_title'].tolist()\n",
    "course_var = tk.StringVar(value = course_titles[0])\n",
    "course_dropdown = ttk.Combobox(root, textvariable=course_var, values=course_titles, width=40, font=font_style)\n",
    "course_dropdown.pack(pady=5)\n",
    "\n",
    "popularity_recommendations = popularity_based_recommendation(data, top_n=5)\n",
    "popularity_label = tk.Label(root, text=\"Popularity-based Recommendations:\\n\" + popularity_recommendations.to_string(index=False),\n",
    "                             font=font_style, fg=label_color)\n",
    "popularity_label.pack()\n",
    "\n",
    "recommend_button = tk.Button(root, text=\"Recommend\", command= recommend_button_click, width=20, font=font_style, fg=button_color)\n",
    "recommend_button.pack(pady=10)\n",
    "\n",
    "result_label = tk.Label(root, text=\"\", wraplength=350, font=font_style, fg=result_label_color)\n",
    "result_label.pack()\n",
    "\n",
    "root.mainloop()"
   ]
  }
 ],
 "metadata": {
  "kernelspec": {
   "display_name": "Python 3 (ipykernel)",
   "language": "python",
   "name": "python3"
  },
  "language_info": {
   "codemirror_mode": {
    "name": "ipython",
    "version": 3
   },
   "file_extension": ".py",
   "mimetype": "text/x-python",
   "name": "python",
   "nbconvert_exporter": "python",
   "pygments_lexer": "ipython3",
   "version": "3.11.8"
  }
 },
 "nbformat": 4,
 "nbformat_minor": 5
}
